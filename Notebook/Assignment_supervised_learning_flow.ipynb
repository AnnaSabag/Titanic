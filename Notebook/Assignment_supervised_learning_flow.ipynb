{
  "cells": [
    {
      "cell_type": "markdown",
      "id": "ec202ada",
      "metadata": {
        "id": "ec202ada"
      },
      "source": [
        "# Assignment - Supervised Learning flow"
      ]
    },
    {
      "cell_type": "markdown",
      "id": "b06a2810",
      "metadata": {
        "id": "b06a2810"
      },
      "source": [
        "# Part 1(a) Student details:\n",
        "* Please write the First-Name, First letter of Last-Name and last 4 digits of the i.d. for each student."
      ]
    },
    {
      "cell_type": "code",
      "execution_count": null,
      "id": "ca16486b",
      "metadata": {
        "id": "ca16486b"
      },
      "outputs": [],
      "source": [
        "# student details 1: Anna P. 2148\n",
        "# student details 2: Almog S. 0824"
      ]
    },
    {
      "cell_type": "markdown",
      "id": "abb64166-b32e-4b86-a7ee-84106c8b3a92",
      "metadata": {
        "id": "abb64166-b32e-4b86-a7ee-84106c8b3a92"
      },
      "source": [
        "## Part 1(b) - Chat-GPT/other AI-agent/other assistance used:\n",
        "* If you changed the prompt until you got a satisfying answer, please add all versions\n",
        "* don't delete \"pre\" tags, so new-line is supported\n",
        "* double click the following markdown cell to change\n",
        "* press shift+enter to view\n",
        "* Add information:"
      ]
    },
    {
      "cell_type": "markdown",
      "id": "ea93f0d3-7aa1-4a95-b084-395f5f7c6c0c",
      "metadata": {
        "id": "ea93f0d3-7aa1-4a95-b084-395f5f7c6c0c"
      },
      "source": [
        "#### Add information in this Markdown cell (double click to change, shift-enter to view)\n",
        "<pre>   \n",
        "AI agent name: ChatGPT (OpenAI GPT-5)\n",
        "\n",
        "Goal: Understand cross-validation and grid search\n",
        "Prompt1: \"How does cross-validation help in choosing the best configuration of the model?\"\n",
        "Prompt2: \"Why should we test several model configurations, and what is the advantage of choosing the one with the smallest C when multiple have the same F1 score?\"\n",
        "\n",
        "Goal: Understand solver selection considerations\n",
        "Prompt1: \"Why is liblinear better for small datasets?\"\n",
        "Prompt2: \"Does the solver affect the training process itself, or only the speed of training?\"\n",
        "Prompt3: \"Why is l2 penalty the default, and when should l1 be used instead?\"\n",
        "\n",
        "Goal: Understand the role of solver and penalty\n",
        "Prompt1: \"What is the difference between penalty and solver?\"\n",
        "Prompt2: \"Is it necessary to set the solver in the code if C and penalty are already chosen?\"\n",
        "Prompt3: \"Why do we need to choose a specific solver in Logistic Regression, and what is the difference between liblinear and lbfgs?\"\n",
        "\n",
        "Other assistanse: Class lecture slides.\n",
        "</pre>"
      ]
    },
    {
      "cell_type": "markdown",
      "id": "0e4fbaab-e5a5-40ed-be0f-9a2cb7931a4b",
      "metadata": {
        "id": "0e4fbaab-e5a5-40ed-be0f-9a2cb7931a4b"
      },
      "source": [
        "## Part 1(c) - Learning Problem and dataset explaination.\n",
        "* Please explain in one paragraph\n",
        "* don't delete \"pre\" tags, so new-line is supported\n",
        "* double click the following markdown cell to change\n",
        "* press shift+enter to view\n",
        "* Add explaining text:"
      ]
    },
    {
      "cell_type": "markdown",
      "id": "dd8565df-2778-4b89-83bd-6b227063789f",
      "metadata": {
        "id": "dd8565df-2778-4b89-83bd-6b227063789f"
      },
      "source": [
        "#### Add information in this Markdown cell (double click to change, shift-enter to view)\n",
        "<pre>\n",
        "In this project, we used the Titanic dataset to build a machine learning model that predicts passenger survival.\n",
        "We first explored the data and created visualizations to see how features like age, sex, and passenger class relate to survival.\n",
        "Then, we trained a Logistic Regression model and tested different settings such as penalties, regularization, and scaling.\n",
        "Using 5-fold cross validation with the F1 score, we chose the best setup, retrained the model on all the training data, and finally tested it on new data to check its performance.\n",
        "</pre>"
      ]
    },
    {
      "cell_type": "markdown",
      "id": "df67c2ee-87c8-499c-a04f-1853c332f51d",
      "metadata": {
        "id": "df67c2ee-87c8-499c-a04f-1853c332f51d"
      },
      "source": [
        "### Part 2 - Initial Preparations\n",
        "We loaded the train and test datasets.\n",
        "\n",
        "We showed the first 5 rows for each dataset (train and test) and created 3 visualizations:\n",
        "1. survival by passenger class\n",
        "2. age distribution by survival\n",
        "3. age boxplot\n",
        "\n",
        "We also made a table of survival rates by gender."
      ]
    },
    {
      "cell_type": "code",
      "source": [
        "import pandas as pd\n",
        "import matplotlib.pyplot as plt\n",
        "import seaborn as sns\n",
        "import numpy as np"
      ],
      "metadata": {
        "id": "yuL_ljGn-vbg"
      },
      "id": "yuL_ljGn-vbg",
      "execution_count": null,
      "outputs": []
    },
    {
      "cell_type": "code",
      "execution_count": null,
      "id": "b29b3454-b568-4614-8017-f15b3c59fc55",
      "metadata": {
        "colab": {
          "base_uri": "https://localhost:8080/"
        },
        "id": "b29b3454-b568-4614-8017-f15b3c59fc55",
        "outputId": "211d7a72-664a-40c6-f82d-ba2f917d1307"
      },
      "outputs": [
        {
          "output_type": "stream",
          "name": "stdout",
          "text": [
            "Train – first 5 rows:\n",
            "   Pclass     Sex   Age  SibSp  Parch     Fare    Embarked  Survived\n",
            "0       1    male  54.0      1      0  78.2667  Queenstown         1\n",
            "1       2    male  45.0      0      0  13.5000   Cherbourg         1\n",
            "2       3  female  20.0      0      0   9.5000   Cherbourg         0\n",
            "3       3  female  36.0      0      0   7.8958   Cherbourg         0\n",
            "4       3  female  22.0      0      0   8.0500   Cherbourg         0\n",
            "\n",
            "Test – first 5 rows:\n",
            "   Pclass     Sex        Age  SibSp  Parch     Fare  Embarked  Survived\n",
            "0       3  female  35.000000      0      0   7.0500         0         0\n",
            "1       3  female  30.000000      0      0   7.2500         0         0\n",
            "2       3  female  29.699118      0      0  14.5000         0         0\n",
            "3       3    male  21.000000      0      0   7.7500         2         0\n",
            "4       3  female  32.000000      0      0  56.4958         0         1\n"
          ]
        }
      ],
      "source": [
        "# --- Load datasets ---\n",
        "train_df = pd.read_csv(\"/titanic_train.csv\")\n",
        "test_df = pd.read_csv(\"/titanic_test.csv\")\n",
        "\n",
        "# Map numeric columns to readable labels\n",
        "train_df[\"Sex\"] = train_df[\"Sex\"].map({0: \"male\", 1: \"female\"})\n",
        "test_df[\"Sex\"] = test_df[\"Sex\"].map({0: \"male\", 1: \"female\"})\n",
        "train_df[\"Embarked\"] = train_df[\"Embarked\"].map({0: \"Cherbourg\", 1: \"Queenstown\", 2: \"Southampton\"})\n",
        "\n",
        "# Show first 5 rows from each dataset\n",
        "print(\"Train – first 5 rows:\")\n",
        "print(train_df.head())\n",
        "print(\"\\nTest – first 5 rows:\")\n",
        "print(test_df.head())"
      ]
    },
    {
      "cell_type": "code",
      "source": [
        "# Set seaborn style\n",
        "sns.set(style=\"whitegrid\")\n",
        "\n",
        "# --- Visualization 1: Survival by Passenger Class ---\n",
        "plt.figure(figsize=(6, 4))\n",
        "sns.barplot(x=\"Pclass\", y=\"Survived\", data=train_df)\n",
        "plt.title(\"Survival Rate by Passenger Class\")\n",
        "plt.xlabel(\"Passenger Class\")\n",
        "plt.ylabel(\"Survival Rate\")\n",
        "plt.show()\n",
        "print(\"Passengers in higher classes (1st class) had higher survival rates.\")"
      ],
      "metadata": {
        "colab": {
          "base_uri": "https://localhost:8080/",
          "height": 436
        },
        "id": "GG5R7_79815A",
        "outputId": "12827459-4caa-4819-e3ec-f21a4bff6d2c"
      },
      "id": "GG5R7_79815A",
      "execution_count": null,
      "outputs": [
        {
          "output_type": "display_data",
          "data": {
            "text/plain": [
              "<Figure size 600x400 with 1 Axes>"
            ],
            "image/png": "[encoded data removed]"
          },
          "metadata": {}
        },
        {
          "output_type": "stream",
          "name": "stdout",
          "text": [
            "Passengers in higher classes (1st class) had higher survival rates.\n"
          ]
        }
      ]
    },
    {
      "cell_type": "code",
      "source": [
        "# --- Visualization 2: Age distribution by survival status ---\n",
        "plt.figure(figsize=(8, 5))\n",
        "sns.histplot(data=train_df, x=\"Age\", hue=\"Survived\", multiple=\"stack\", bins=20)\n",
        "plt.title(\"Age Distribution by Survival Status\")\n",
        "plt.xlabel(\"Age\")\n",
        "plt.ylabel(\"Passenger Count\")\n",
        "plt.legend(title=\"Survived\", labels=[\"Did Not Survive\", \"Survived\"])\n",
        "plt.show()\n",
        "print(\"Younger passengers had slightly better survival rates compared to older ones.\")\n"
      ],
      "metadata": {
        "colab": {
          "base_uri": "https://localhost:8080/",
          "height": 513
        },
        "id": "jX4kFgLFBe9y",
        "outputId": "3461d2ad-d0ef-4601-ad6f-4b651c7c698f"
      },
      "id": "jX4kFgLFBe9y",
      "execution_count": null,
      "outputs": [
        {
          "output_type": "display_data",
          "data": {
            "text/plain": [
              "<Figure size 800x500 with 1 Axes>"
            ],
            "image/png": "[encoded data removed]"
          },
          "metadata": {}
        },
        {
          "output_type": "stream",
          "name": "stdout",
          "text": [
            "Younger passengers had slightly better survival rates compared to older ones.\n"
          ]
        }
      ]
    },
    {
      "cell_type": "code",
      "source": [
        "# --- Visualization 3: Box plot of Age by Survival ---\n",
        "plt.figure(figsize=(6, 4))\n",
        "sns.boxplot(x=\"Survived\", y=\"Age\", data=train_df)\n",
        "plt.title(\"Age Distribution by Survival\")\n",
        "plt.xlabel(\"Survived (0 = No, 1 = Yes)\")\n",
        "plt.ylabel(\"Age\")\n",
        "plt.show()\n",
        "print(\"Median age of survivors was lower than non-survivors, but with overlap.\")\n"
      ],
      "metadata": {
        "colab": {
          "base_uri": "https://localhost:8080/",
          "height": 436
        },
        "id": "gzhTsWfC_JQE",
        "outputId": "b1f4b0a1-3f74-4b5f-e62e-b9162115f5f2"
      },
      "id": "gzhTsWfC_JQE",
      "execution_count": null,
      "outputs": [
        {
          "output_type": "display_data",
          "data": {
            "text/plain": [
              "<Figure size 600x400 with 1 Axes>"
            ],
            "image/png": "[encoded data removed]"
          },
          "metadata": {}
        },
        {
          "output_type": "stream",
          "name": "stdout",
          "text": [
            "Median age of survivors was lower than non-survivors, but with overlap.\n"
          ]
        }
      ]
    },
    {
      "cell_type": "code",
      "source": [
        "# --- Table: Survival rate by Sex ---\n",
        "sex_survival = (\n",
        "    train_df.groupby(\"Sex\")[\"Survived\"]\n",
        "    .agg([\"mean\", \"count\"])\n",
        "    .reset_index()\n",
        "    .rename(columns={\"mean\": \"Survival_Rate\", \"count\": \"Count\"})\n",
        ")\n",
        "sex_survival[\"Survival_Rate\"] = sex_survival[\"Survival_Rate\"].round(2)\n",
        "\n",
        "print(\"\\nSurvival rate by Sex:\")\n",
        "print(sex_survival)"
      ],
      "metadata": {
        "colab": {
          "base_uri": "https://localhost:8080/"
        },
        "id": "l4rWYT29_JB8",
        "outputId": "73b1de46-ee82-408b-a366-3a09c6dee042"
      },
      "id": "l4rWYT29_JB8",
      "execution_count": null,
      "outputs": [
        {
          "output_type": "stream",
          "name": "stdout",
          "text": [
            "\n",
            "Survival rate by Sex:\n",
            "      Sex  Survival_Rate  Count\n",
            "0  female           0.19    456\n",
            "1    male           0.75    256\n"
          ]
        }
      ]
    },
    {
      "cell_type": "markdown",
      "id": "fb36672a",
      "metadata": {
        "id": "fb36672a"
      },
      "source": [
        "## Part 3 - Experiments\n",
        "We used Logistic Regression as our model.\n",
        "\n",
        "We tested feature scaling (on/off), different penalties (l1, l2), and different regularization values (C = 0.1, 1, 10).\n",
        "\n",
        "We applied 5-fold cross validation and measured model quality with the F1 score.\n",
        "\n",
        "We selected the best configuration based on the highest F1 (and smaller C if equal, to reduce overfitting and prefer a simpler model)."
      ]
    },
    {
      "cell_type": "code",
      "execution_count": null,
      "id": "b7098585",
      "metadata": {
        "id": "b7098585"
      },
      "outputs": [],
      "source": [
        "from sklearn.linear_model import LogisticRegression\n",
        "from sklearn.preprocessing import StandardScaler\n",
        "from sklearn.model_selection import KFold\n",
        "from sklearn.metrics import f1_score"
      ]
    },
    {
      "cell_type": "code",
      "source": [
        "# Convert encoded values to readable labels\n",
        "train_df[\"Embarked\"] = train_df[\"Embarked\"].map({0: \"Cherbourg\", 1: \"Queenstown\", 2: \"Southampton\"})\n",
        "test_df[\"Embarked\"] = test_df[\"Embarked\"].map({0: \"Cherbourg\", 1: \"Queenstown\", 2: \"Southampton\"})\n",
        "\n",
        "# Select features\n",
        "numeric_features = [\"Age\", \"Fare\", \"SibSp\", \"Parch\"]\n",
        "categorical_features = [\"Pclass\", \"Sex\", \"Embarked\"]\n",
        "features = numeric_features + categorical_features\n",
        "\n",
        "# One-hot encode categorical features\n",
        "X_train = pd.get_dummies(train_df[features])\n",
        "X_test = pd.get_dummies(test_df[features])\n",
        "\n",
        "# Align train and test (ensure same columns)\n",
        "X_train, X_test = X_train.align(X_test, join=\"left\", axis=1, fill_value=0)\n",
        "\n",
        "y_train = train_df[\"Survived\"]\n",
        "y_test = test_df[\"Survived\"]"
      ],
      "metadata": {
        "id": "yIxBXHBtJSwI"
      },
      "id": "yIxBXHBtJSwI",
      "execution_count": null,
      "outputs": []
    },
    {
      "cell_type": "code",
      "execution_count": null,
      "id": "097afb02",
      "metadata": {
        "colab": {
          "base_uri": "https://localhost:8080/"
        },
        "id": "097afb02",
        "outputId": "22e503d5-cb85-47d2-f424-a0ec119c02fa"
      },
      "outputs": [
        {
          "output_type": "stream",
          "name": "stdout",
          "text": [
            "\n",
            "Grid Search Results (average F1 per configuration):\n",
            "    Scaling     C Penalty  F1 Score Mean\n",
            "6     False   0.1      l1          0.726\n",
            "11    False  10.0      l2          0.726\n",
            "0      True   0.1      l1          0.724\n",
            "4      True  10.0      l1          0.723\n",
            "5      True  10.0      l2          0.723\n",
            "10    False  10.0      l1          0.723\n",
            "1      True   0.1      l2          0.720\n",
            "3      True   1.0      l2          0.719\n",
            "9     False   1.0      l2          0.719\n",
            "7     False   0.1      l2          0.718\n",
            "2      True   1.0      l1          0.718\n",
            "8     False   1.0      l1          0.718\n",
            "\n",
            "Best Configuration:\n",
            "Scaling          False\n",
            "C                  0.1\n",
            "Penalty             l1\n",
            "F1 Score Mean    0.726\n",
            "Name: 6, dtype: object\n"
          ]
        }
      ],
      "source": [
        "def run_logistic_regression_kfold(X, y, is_scaled, results):\n",
        "    kf = KFold(n_splits=5, shuffle=True, random_state=42)\n",
        "\n",
        "    # Hyperparameter grid\n",
        "    C_list = [0.1, 1, 10]\n",
        "    penalty_list = ['l1', 'l2']\n",
        "\n",
        "    for C in C_list:\n",
        "        for penalty in penalty_list:\n",
        "            f1_scores = []\n",
        "\n",
        "            for train_idx, val_idx in kf.split(X):\n",
        "                X_train_fold, X_val_fold = X.iloc[train_idx].copy(), X.iloc[val_idx].copy()\n",
        "                y_train_fold, y_val_fold = y.iloc[train_idx], y.iloc[val_idx]\n",
        "\n",
        "                # Apply scaling\n",
        "                if is_scaled:\n",
        "                    scaler = StandardScaler()\n",
        "                    X_train_fold[numeric_features] = scaler.fit_transform(X_train_fold[numeric_features])\n",
        "                    X_val_fold[numeric_features] = scaler.transform(X_val_fold[numeric_features])\n",
        "\n",
        "                # Train Logistic Regression\n",
        "                lr = LogisticRegression(\n",
        "                    C=C,\n",
        "                    penalty=penalty,\n",
        "                    solver='liblinear',\n",
        "                    max_iter=1000,\n",
        "                    random_state=42\n",
        "                )\n",
        "                lr.fit(X_train_fold, y_train_fold)\n",
        "                y_pred = lr.predict(X_val_fold)\n",
        "                f1 = f1_score(y_val_fold, y_pred)\n",
        "                f1_scores.append(f1)\n",
        "\n",
        "            # Save average F1 score over all folds\n",
        "            results.append({\n",
        "                \"Scaling\": is_scaled,\n",
        "                \"C\": C,\n",
        "                \"Penalty\": penalty,\n",
        "                \"F1 Score Mean\": round(sum(f1_scores) / len(f1_scores), 3)\n",
        "            })\n",
        "\n",
        "# Run experiments with and without scaling\n",
        "results = []\n",
        "run_logistic_regression_kfold(X_train, y_train, is_scaled=True, results=results)\n",
        "run_logistic_regression_kfold(X_train, y_train, is_scaled=False, results=results)\n",
        "\n",
        "results_df = pd.DataFrame(results)\n",
        "\n",
        "# Show all configurations sorted by F1 and C\n",
        "print(\"\\nGrid Search Results (average F1 per configuration):\")\n",
        "print(results_df.sort_values(by=[\"F1 Score Mean\", \"C\"], ascending=[False, True]))\n",
        "\n",
        "# Select best configuration: max F1, prefer lower C if equal\n",
        "best_config = results_df.sort_values(\n",
        "    by=[\"F1 Score Mean\", \"C\"],\n",
        "    ascending=[False, True]\n",
        ").iloc[0]\n",
        "\n",
        "print(\"\\nBest Configuration:\")\n",
        "print(best_config)\n"
      ]
    },
    {
      "cell_type": "markdown",
      "id": "67d97f11",
      "metadata": {
        "id": "67d97f11"
      },
      "source": [
        "## Part 4 - Training\n",
        "We trained the Logistic Regression model again on the entire training set using the best configuration from Part 3.\n",
        "\n",
        "This step gives us the final model that we will use for predictions."
      ]
    },
    {
      "cell_type": "code",
      "execution_count": null,
      "id": "93713ead",
      "metadata": {
        "id": "93713ead",
        "colab": {
          "base_uri": "https://localhost:8080/"
        },
        "outputId": "08451690-77fe-432d-aa4d-43a7c346ad62"
      },
      "outputs": [
        {
          "output_type": "stream",
          "name": "stdout",
          "text": [
            "Final model trained on full training set:\n",
            "Scaling: False, C: 0.1, Penalty: l1\n"
          ]
        }
      ],
      "source": [
        "# Extract best configuration\n",
        "best_scaling = best_config[\"Scaling\"]\n",
        "best_C = best_config[\"C\"]\n",
        "best_penalty = best_config[\"Penalty\"]\n",
        "\n",
        "# Make a copy of the full training data\n",
        "X_final = X_train.copy()\n",
        "y_final = y_train.copy()\n",
        "\n",
        "# Apply scaling\n",
        "if best_scaling:\n",
        "    final_scaler = StandardScaler()\n",
        "    X_final[numeric_features] = final_scaler.fit_transform(X_final[numeric_features])\n",
        "\n",
        "# Train the final model on the entire training set\n",
        "final_model = LogisticRegression(\n",
        "    C=best_C,\n",
        "    penalty=best_penalty,\n",
        "    solver=\"liblinear\",\n",
        "    max_iter=1000,\n",
        "    random_state=42\n",
        ")\n",
        "\n",
        "final_model.fit(X_final, y_final)\n",
        "\n",
        "print(\"Final model trained on full training set:\")\n",
        "print(f\"Scaling: {best_scaling}, C: {best_C}, Penalty: {best_penalty}\")\n"
      ]
    },
    {
      "cell_type": "markdown",
      "id": "259ab902",
      "metadata": {
        "id": "259ab902"
      },
      "source": [
        "## Part 5 - Apply on test and show model performance estimation\n",
        "\n",
        "The test set is new data that the model has not seen before.\n",
        "\n",
        "We applied the same preprocessing as in training and used the final model to predict survival.\n",
        "\n",
        "We showed the first 5 predictions and calculated the F1 score on the test set to evaluate model performance."
      ]
    },
    {
      "cell_type": "code",
      "execution_count": null,
      "id": "d9971aa5",
      "metadata": {
        "id": "d9971aa5",
        "colab": {
          "base_uri": "https://localhost:8080/"
        },
        "outputId": "a627b402-b396-4ede-9c5c-1100edb439a6"
      },
      "outputs": [
        {
          "output_type": "stream",
          "name": "stdout",
          "text": [
            "First 5 predictions on test set:\n",
            "[0 0 0 1 0]\n",
            "\n",
            "F1 Score on Test Set: 0.6721\n"
          ]
        }
      ],
      "source": [
        "# Prepare test data\n",
        "X_test_final = X_test.copy()\n",
        "y_test_final = y_test\n",
        "\n",
        "# Apply scaling (same scaler as training)\n",
        "if best_config[\"Scaling\"]:\n",
        "    scaler = StandardScaler()\n",
        "    X_final = X_train.copy()\n",
        "    X_final[numeric_features] = scaler.fit_transform(X_final[numeric_features])\n",
        "    X_test_final[numeric_features] = scaler.transform(X_test_final[numeric_features])\n",
        "else:\n",
        "    X_final = X_train.copy()\n",
        "\n",
        "# Retrain the model on full training set with best configuration\n",
        "final_model = LogisticRegression(\n",
        "    C=best_config[\"C\"],\n",
        "    penalty=best_config[\"Penalty\"],\n",
        "    solver=\"liblinear\",\n",
        "    max_iter=1000,\n",
        "    random_state=42\n",
        ").fit(X_final, y_train)\n",
        "\n",
        "# Predict on test set\n",
        "y_test_pred = final_model.predict(X_test_final)\n",
        "\n",
        "# Show first 5 predictions\n",
        "print(\"First 5 predictions on test set:\")\n",
        "print(y_test_pred[:5])\n",
        "\n",
        "# Evaluate F1 score on test set\n",
        "f1_test = f1_score(y_test_final, y_test_pred)\n",
        "print(f\"\\nF1 Score on Test Set: {f1_test:.4f}\")\n"
      ]
    }
  ],
  "metadata": {
    "kernelspec": {
      "display_name": "Python 3 (ipykernel)",
      "language": "python",
      "name": "python3"
    },
    "language_info": {
      "codemirror_mode": {
        "name": "ipython",
        "version": 3
      },
      "file_extension": ".py",
      "mimetype": "text/x-python",
      "name": "python",
      "nbconvert_exporter": "python",
      "pygments_lexer": "ipython3",
      "version": "3.11.9"
    },
    "colab": {
      "provenance": []
    }
  },
  "nbformat": 4,
  "nbformat_minor": 5
}